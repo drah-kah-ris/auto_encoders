{
 "cells": [
  {
   "cell_type": "markdown",
   "metadata": {},
   "source": [
    "# Autoencoders using TensorFlow"
   ]
  },
  {
   "cell_type": "code",
   "execution_count": 1,
   "metadata": {
    "collapsed": false
   },
   "outputs": [],
   "source": [
    "import tensorflow as tf\n",
    "import pandas as pd\n",
    "import numpy as np\n",
    "import seaborn as sns\n",
    "import matplotlib.pyplot as plt\n",
    "%matplotlib inline"
   ]
  },
  {
   "cell_type": "code",
   "execution_count": 7,
   "metadata": {
    "collapsed": false
   },
   "outputs": [
    {
     "ename": "IOError",
     "evalue": "File /Desktop/Praveen/numerai_datasets/numerai_training_data.csv does not exist",
     "output_type": "error",
     "traceback": [
      "\u001b[0;31m---------------------------------------------------------------------------\u001b[0m",
      "\u001b[0;31mIOError\u001b[0m                                   Traceback (most recent call last)",
      "\u001b[0;32m<ipython-input-7-bc73c578ee4a>\u001b[0m in \u001b[0;36m<module>\u001b[0;34m()\u001b[0m\n\u001b[0;32m----> 1\u001b[0;31m \u001b[0mtrain_data\u001b[0m \u001b[0;34m=\u001b[0m \u001b[0mpd\u001b[0m\u001b[0;34m.\u001b[0m\u001b[0mread_csv\u001b[0m\u001b[0;34m(\u001b[0m\u001b[0;34m'/Desktop/Praveen/numerai_datasets/numerai_training_data.csv'\u001b[0m\u001b[0;34m)\u001b[0m\u001b[0;34m\u001b[0m\u001b[0m\n\u001b[0m",
      "\u001b[0;32m/Users/ilabuser/anaconda/lib/python2.7/site-packages/pandas/io/parsers.pyc\u001b[0m in \u001b[0;36mparser_f\u001b[0;34m(filepath_or_buffer, sep, delimiter, header, names, index_col, usecols, squeeze, prefix, mangle_dupe_cols, dtype, engine, converters, true_values, false_values, skipinitialspace, skiprows, skipfooter, nrows, na_values, keep_default_na, na_filter, verbose, skip_blank_lines, parse_dates, infer_datetime_format, keep_date_col, date_parser, dayfirst, iterator, chunksize, compression, thousands, decimal, lineterminator, quotechar, quoting, escapechar, comment, encoding, dialect, tupleize_cols, error_bad_lines, warn_bad_lines, skip_footer, doublequote, delim_whitespace, as_recarray, compact_ints, use_unsigned, low_memory, buffer_lines, memory_map, float_precision)\u001b[0m\n\u001b[1;32m    560\u001b[0m                     skip_blank_lines=skip_blank_lines)\n\u001b[1;32m    561\u001b[0m \u001b[0;34m\u001b[0m\u001b[0m\n\u001b[0;32m--> 562\u001b[0;31m         \u001b[0;32mreturn\u001b[0m \u001b[0m_read\u001b[0m\u001b[0;34m(\u001b[0m\u001b[0mfilepath_or_buffer\u001b[0m\u001b[0;34m,\u001b[0m \u001b[0mkwds\u001b[0m\u001b[0;34m)\u001b[0m\u001b[0;34m\u001b[0m\u001b[0m\n\u001b[0m\u001b[1;32m    563\u001b[0m \u001b[0;34m\u001b[0m\u001b[0m\n\u001b[1;32m    564\u001b[0m     \u001b[0mparser_f\u001b[0m\u001b[0;34m.\u001b[0m\u001b[0m__name__\u001b[0m \u001b[0;34m=\u001b[0m \u001b[0mname\u001b[0m\u001b[0;34m\u001b[0m\u001b[0m\n",
      "\u001b[0;32m/Users/ilabuser/anaconda/lib/python2.7/site-packages/pandas/io/parsers.pyc\u001b[0m in \u001b[0;36m_read\u001b[0;34m(filepath_or_buffer, kwds)\u001b[0m\n\u001b[1;32m    313\u001b[0m \u001b[0;34m\u001b[0m\u001b[0m\n\u001b[1;32m    314\u001b[0m     \u001b[0;31m# Create the parser.\u001b[0m\u001b[0;34m\u001b[0m\u001b[0;34m\u001b[0m\u001b[0m\n\u001b[0;32m--> 315\u001b[0;31m     \u001b[0mparser\u001b[0m \u001b[0;34m=\u001b[0m \u001b[0mTextFileReader\u001b[0m\u001b[0;34m(\u001b[0m\u001b[0mfilepath_or_buffer\u001b[0m\u001b[0;34m,\u001b[0m \u001b[0;34m**\u001b[0m\u001b[0mkwds\u001b[0m\u001b[0;34m)\u001b[0m\u001b[0;34m\u001b[0m\u001b[0m\n\u001b[0m\u001b[1;32m    316\u001b[0m \u001b[0;34m\u001b[0m\u001b[0m\n\u001b[1;32m    317\u001b[0m     \u001b[0;32mif\u001b[0m \u001b[0;34m(\u001b[0m\u001b[0mnrows\u001b[0m \u001b[0;32mis\u001b[0m \u001b[0;32mnot\u001b[0m \u001b[0mNone\u001b[0m\u001b[0;34m)\u001b[0m \u001b[0;32mand\u001b[0m \u001b[0;34m(\u001b[0m\u001b[0mchunksize\u001b[0m \u001b[0;32mis\u001b[0m \u001b[0;32mnot\u001b[0m \u001b[0mNone\u001b[0m\u001b[0;34m)\u001b[0m\u001b[0;34m:\u001b[0m\u001b[0;34m\u001b[0m\u001b[0m\n",
      "\u001b[0;32m/Users/ilabuser/anaconda/lib/python2.7/site-packages/pandas/io/parsers.pyc\u001b[0m in \u001b[0;36m__init__\u001b[0;34m(self, f, engine, **kwds)\u001b[0m\n\u001b[1;32m    643\u001b[0m             \u001b[0mself\u001b[0m\u001b[0;34m.\u001b[0m\u001b[0moptions\u001b[0m\u001b[0;34m[\u001b[0m\u001b[0;34m'has_index_names'\u001b[0m\u001b[0;34m]\u001b[0m \u001b[0;34m=\u001b[0m \u001b[0mkwds\u001b[0m\u001b[0;34m[\u001b[0m\u001b[0;34m'has_index_names'\u001b[0m\u001b[0;34m]\u001b[0m\u001b[0;34m\u001b[0m\u001b[0m\n\u001b[1;32m    644\u001b[0m \u001b[0;34m\u001b[0m\u001b[0m\n\u001b[0;32m--> 645\u001b[0;31m         \u001b[0mself\u001b[0m\u001b[0;34m.\u001b[0m\u001b[0m_make_engine\u001b[0m\u001b[0;34m(\u001b[0m\u001b[0mself\u001b[0m\u001b[0;34m.\u001b[0m\u001b[0mengine\u001b[0m\u001b[0;34m)\u001b[0m\u001b[0;34m\u001b[0m\u001b[0m\n\u001b[0m\u001b[1;32m    646\u001b[0m \u001b[0;34m\u001b[0m\u001b[0m\n\u001b[1;32m    647\u001b[0m     \u001b[0;32mdef\u001b[0m \u001b[0mclose\u001b[0m\u001b[0;34m(\u001b[0m\u001b[0mself\u001b[0m\u001b[0;34m)\u001b[0m\u001b[0;34m:\u001b[0m\u001b[0;34m\u001b[0m\u001b[0m\n",
      "\u001b[0;32m/Users/ilabuser/anaconda/lib/python2.7/site-packages/pandas/io/parsers.pyc\u001b[0m in \u001b[0;36m_make_engine\u001b[0;34m(self, engine)\u001b[0m\n\u001b[1;32m    797\u001b[0m     \u001b[0;32mdef\u001b[0m \u001b[0m_make_engine\u001b[0m\u001b[0;34m(\u001b[0m\u001b[0mself\u001b[0m\u001b[0;34m,\u001b[0m \u001b[0mengine\u001b[0m\u001b[0;34m=\u001b[0m\u001b[0;34m'c'\u001b[0m\u001b[0;34m)\u001b[0m\u001b[0;34m:\u001b[0m\u001b[0;34m\u001b[0m\u001b[0m\n\u001b[1;32m    798\u001b[0m         \u001b[0;32mif\u001b[0m \u001b[0mengine\u001b[0m \u001b[0;34m==\u001b[0m \u001b[0;34m'c'\u001b[0m\u001b[0;34m:\u001b[0m\u001b[0;34m\u001b[0m\u001b[0m\n\u001b[0;32m--> 799\u001b[0;31m             \u001b[0mself\u001b[0m\u001b[0;34m.\u001b[0m\u001b[0m_engine\u001b[0m \u001b[0;34m=\u001b[0m \u001b[0mCParserWrapper\u001b[0m\u001b[0;34m(\u001b[0m\u001b[0mself\u001b[0m\u001b[0;34m.\u001b[0m\u001b[0mf\u001b[0m\u001b[0;34m,\u001b[0m \u001b[0;34m**\u001b[0m\u001b[0mself\u001b[0m\u001b[0;34m.\u001b[0m\u001b[0moptions\u001b[0m\u001b[0;34m)\u001b[0m\u001b[0;34m\u001b[0m\u001b[0m\n\u001b[0m\u001b[1;32m    800\u001b[0m         \u001b[0;32melse\u001b[0m\u001b[0;34m:\u001b[0m\u001b[0;34m\u001b[0m\u001b[0m\n\u001b[1;32m    801\u001b[0m             \u001b[0;32mif\u001b[0m \u001b[0mengine\u001b[0m \u001b[0;34m==\u001b[0m \u001b[0;34m'python'\u001b[0m\u001b[0;34m:\u001b[0m\u001b[0;34m\u001b[0m\u001b[0m\n",
      "\u001b[0;32m/Users/ilabuser/anaconda/lib/python2.7/site-packages/pandas/io/parsers.pyc\u001b[0m in \u001b[0;36m__init__\u001b[0;34m(self, src, **kwds)\u001b[0m\n\u001b[1;32m   1211\u001b[0m         \u001b[0mkwds\u001b[0m\u001b[0;34m[\u001b[0m\u001b[0;34m'allow_leading_cols'\u001b[0m\u001b[0;34m]\u001b[0m \u001b[0;34m=\u001b[0m \u001b[0mself\u001b[0m\u001b[0;34m.\u001b[0m\u001b[0mindex_col\u001b[0m \u001b[0;32mis\u001b[0m \u001b[0;32mnot\u001b[0m \u001b[0mFalse\u001b[0m\u001b[0;34m\u001b[0m\u001b[0m\n\u001b[1;32m   1212\u001b[0m \u001b[0;34m\u001b[0m\u001b[0m\n\u001b[0;32m-> 1213\u001b[0;31m         \u001b[0mself\u001b[0m\u001b[0;34m.\u001b[0m\u001b[0m_reader\u001b[0m \u001b[0;34m=\u001b[0m \u001b[0m_parser\u001b[0m\u001b[0;34m.\u001b[0m\u001b[0mTextReader\u001b[0m\u001b[0;34m(\u001b[0m\u001b[0msrc\u001b[0m\u001b[0;34m,\u001b[0m \u001b[0;34m**\u001b[0m\u001b[0mkwds\u001b[0m\u001b[0;34m)\u001b[0m\u001b[0;34m\u001b[0m\u001b[0m\n\u001b[0m\u001b[1;32m   1214\u001b[0m \u001b[0;34m\u001b[0m\u001b[0m\n\u001b[1;32m   1215\u001b[0m         \u001b[0;31m# XXX\u001b[0m\u001b[0;34m\u001b[0m\u001b[0;34m\u001b[0m\u001b[0m\n",
      "\u001b[0;32mpandas/parser.pyx\u001b[0m in \u001b[0;36mpandas.parser.TextReader.__cinit__ (pandas/parser.c:3427)\u001b[0;34m()\u001b[0m\n",
      "\u001b[0;32mpandas/parser.pyx\u001b[0m in \u001b[0;36mpandas.parser.TextReader._setup_parser_source (pandas/parser.c:6861)\u001b[0;34m()\u001b[0m\n",
      "\u001b[0;31mIOError\u001b[0m: File /Desktop/Praveen/numerai_datasets/numerai_training_data.csv does not exist"
     ]
    }
   ],
   "source": [
    "train_data = pd.read_csv('/Desktop/Praveen/numerai_datasets/numerai_training_data.csv')"
   ]
  },
  {
   "cell_type": "code",
   "execution_count": 3,
   "metadata": {
    "collapsed": false
   },
   "outputs": [],
   "source": [
    "train_data = train_data.drop(['target'], 1)"
   ]
  },
  {
   "cell_type": "code",
   "execution_count": 4,
   "metadata": {
    "collapsed": false
   },
   "outputs": [
    {
     "name": "stdout",
     "output_type": "stream",
     "text": [
      "1.0\n",
      "0.0\n"
     ]
    }
   ],
   "source": [
    "print max(train_data.max(axis=1))\n",
    "print min(train_data.min(axis=1))"
   ]
  },
  {
   "cell_type": "code",
   "execution_count": 5,
   "metadata": {
    "collapsed": true
   },
   "outputs": [],
   "source": [
    "corr = train_data.corr()"
   ]
  },
  {
   "cell_type": "code",
   "execution_count": 6,
   "metadata": {
    "collapsed": false
   },
   "outputs": [],
   "source": [
    "# Generate a mask for the upper triangle\n",
    "mask = np.zeros_like(corr, dtype=np.bool)\n",
    "mask[np.triu_indices_from(mask)] = True"
   ]
  },
  {
   "cell_type": "code",
   "execution_count": 7,
   "metadata": {
    "collapsed": false
   },
   "outputs": [
    {
     "data": {
      "text/plain": [
       "<matplotlib.axes._subplots.AxesSubplot at 0x11dcbedd0>"
      ]
     },
     "execution_count": 7,
     "metadata": {},
     "output_type": "execute_result"
    },
    {
     "data": {
      "image/png": "[encoded data removed]",
      "text/plain": [
       "<matplotlib.figure.Figure at 0x11dcbe510>"
      ]
     },
     "metadata": {},
     "output_type": "display_data"
    }
   ],
   "source": [
    "# Set up the matplotlib figure\n",
    "f, ax = plt.subplots(figsize=(15, 20))\n",
    "\n",
    "# Generate a custom diverging colormap\n",
    "cmap = sns.diverging_palette(220, 10, as_cmap=True)\n",
    "\n",
    "# Draw the heatmap with the mask and correct aspect ratio\n",
    "sns.set(style=\"white\")\n",
    "sns.heatmap(corr, mask=mask, cmap=cmap, vmax=.3,\n",
    "            square=True, \n",
    "            linewidths=0.1, \n",
    "            cbar_kws={\"shrink\": .5}, ax=ax)"
   ]
  },
  {
   "cell_type": "markdown",
   "metadata": {},
   "source": [
    "# Creating the neural network"
   ]
  },
  {
   "cell_type": "code",
   "execution_count": 8,
   "metadata": {
    "collapsed": false
   },
   "outputs": [],
   "source": [
    "# Parameters\n",
    "learning_rate = 0.01\n",
    "training_epochs = 2000\n",
    "batch_size = 256\n",
    "display_step = 10"
   ]
  },
  {
   "cell_type": "code",
   "execution_count": 9,
   "metadata": {
    "collapsed": true
   },
   "outputs": [],
   "source": [
    "# Network Parameters\n",
    "n_hidden_1 = 25 # 1st layer num features\n",
    "n_hidden_2 = 10 # 2nd layer num features\n",
    "n_hidden_3 = 5  # 3rd layer num features\n",
    "n_input = 50"
   ]
  },
  {
   "cell_type": "code",
   "execution_count": 10,
   "metadata": {
    "collapsed": false
   },
   "outputs": [],
   "source": [
    "# tf Graph input\n",
    "X = tf.placeholder(\"float\", [None, n_input], name=\"X\")"
   ]
  },
  {
   "cell_type": "code",
   "execution_count": 11,
   "metadata": {
    "collapsed": true
   },
   "outputs": [],
   "source": [
    "weights = {\n",
    "'encoder_h1': tf.Variable(tf.zeros([n_input,    n_hidden_1]), name=\"w_e_h1\"),\n",
    "'encoder_h2': tf.Variable(tf.zeros([n_hidden_1, n_hidden_2]), name=\"w_e_h2\"),\n",
    "'encoder_h3': tf.Variable(tf.zeros([n_hidden_2, n_hidden_3]), name=\"w_e_h3\"),\n",
    "'decoder_h1': tf.Variable(tf.zeros([n_hidden_3, n_hidden_2]), name=\"w_d_h1\"),\n",
    "'decoder_h2': tf.Variable(tf.zeros([n_hidden_2, n_hidden_1]), name=\"w_d_h2\"),\n",
    "'decoder_h3': tf.Variable(tf.zeros([n_hidden_1, n_input]),    name=\"w_d_h3\")\n",
    "}\n",
    "biases = {\n",
    "'encoder_b1': tf.Variable(tf.zeros([n_hidden_1]),  name=\"b_e_h1\"),\n",
    "'encoder_b2': tf.Variable(tf.zeros([n_hidden_2]),  name=\"b_e_h2\"),\n",
    "'encoder_b3': tf.Variable(tf.zeros([n_hidden_3]),  name=\"b_e_h3\"),\n",
    "'decoder_b1': tf.Variable(tf.zeros([n_hidden_2]),  name=\"b_d_h1\"),\n",
    "'decoder_b2': tf.Variable(tf.zeros([n_hidden_1]),  name=\"b_d_h2\"),\n",
    "'decoder_b3': tf.Variable(tf.zeros([n_input]),     name=\"b_e_h3\")\n",
    "}"
   ]
  },
  {
   "cell_type": "code",
   "execution_count": 12,
   "metadata": {
    "collapsed": false
   },
   "outputs": [
    {
     "data": {
      "text/plain": [
       "<tf.Tensor 'w_d_h3_summ:0' shape=() dtype=string>"
      ]
     },
     "execution_count": 12,
     "metadata": {},
     "output_type": "execute_result"
    }
   ],
   "source": [
    "#Add histogram summaries for weights\n",
    "\n",
    "tf.summary.histogram(\"w_e_h1_summ\", weights['encoder_h1'])\n",
    "tf.summary.histogram(\"w_e_h2_summ\", weights['encoder_h2'])\n",
    "tf.summary.histogram(\"w_e_h3_summ\", weights['encoder_h3'])\n",
    "tf.summary.histogram(\"w_d_h1_summ\", weights['decoder_h1'])\n",
    "tf.summary.histogram(\"w_d_h2_summ\", weights['decoder_h2'])\n",
    "tf.summary.histogram(\"w_d_h3_summ\", weights['decoder_h3'])"
   ]
  },
  {
   "cell_type": "code",
   "execution_count": 13,
   "metadata": {
    "collapsed": true
   },
   "outputs": [],
   "source": [
    "# Building the encoder\n",
    "def encoder(x):\n",
    "# Encoder Hidden layer with sigmoid activation #1\n",
    "    with tf.name_scope(\"en_layer1\"):\n",
    "        layer_1 = tf.nn.sigmoid(tf.add(tf.matmul(x, weights['encoder_h1']),\n",
    "                                                    biases['encoder_b1']))\n",
    "# Encoder Hidden layer with sigmoid activation #2\n",
    "    with tf.name_scope(\"en_layer2\"):\n",
    "        layer_2 = tf.nn.sigmoid(tf.add(tf.matmul(layer_1, weights['encoder_h2']),\n",
    "                                                          biases['encoder_b2']))\n",
    "# Encoder Hidden layer with sigmoid activation #3\n",
    "    with tf.name_scope(\"en_layer3\"):\n",
    "        layer_3 = tf.nn.sigmoid(tf.add(tf.matmul(layer_2, weights['encoder_h3']),\n",
    "                                                          biases['encoder_b3']))\n",
    "    return layer_3"
   ]
  },
  {
   "cell_type": "code",
   "execution_count": 14,
   "metadata": {
    "collapsed": true
   },
   "outputs": [],
   "source": [
    "# Building the decoder\n",
    "def decoder(x):\n",
    "# Encoder Hidden layer with sigmoid activation #1\n",
    "    with tf.name_scope(\"de_layer1\"):\n",
    "        layer_1 = tf.nn.sigmoid(tf.add(tf.matmul(x, weights['decoder_h1']),\n",
    "                                                    biases['decoder_b1']))\n",
    "# Decoder Hidden layer with sigmoid activation #2\n",
    "    with tf.name_scope(\"de_layer2\"):\n",
    "        layer_2 = tf.nn.sigmoid(tf.add(tf.matmul(layer_1, weights['decoder_h2']),\n",
    "                                                          biases['decoder_b2']))\n",
    "# Decoder Hidden layer with sigmoid activation #2\n",
    "    with tf.name_scope(\"de_layer3\"):\n",
    "        layer_3 = tf.nn.sigmoid(tf.add(tf.matmul(layer_2, weights['decoder_h3']),\n",
    "                                                          biases['decoder_b3']))\n",
    "    return layer_3\n"
   ]
  },
  {
   "cell_type": "code",
   "execution_count": 15,
   "metadata": {
    "collapsed": false
   },
   "outputs": [],
   "source": [
    "# Construct model\n",
    "encoder_op = encoder(X)\n",
    "decoder_op = decoder(encoder_op)"
   ]
  },
  {
   "cell_type": "code",
   "execution_count": 16,
   "metadata": {
    "collapsed": true
   },
   "outputs": [],
   "source": [
    "# Prediction\n",
    "y_pred = decoder_op\n",
    "# Targets (Labels) are the input data.\n",
    "y_true = X"
   ]
  },
  {
   "cell_type": "code",
   "execution_count": 17,
   "metadata": {
    "collapsed": false
   },
   "outputs": [],
   "source": [
    "# Define loss and optimizer, minimize the squared error\n",
    "with tf.name_scope(\"cost\"):\n",
    "    cost = tf.reduce_mean(tf.pow(y_true - y_pred, 2))\n",
    "    train_op = tf.train.RMSPropOptimizer(learning_rate).minimize(cost)\n",
    "    # Add scalar summary for cost tensor\n",
    "    tf.summary.scalar(\"cost\", cost)"
   ]
  },
  {
   "cell_type": "code",
   "execution_count": 18,
   "metadata": {
    "collapsed": true
   },
   "outputs": [],
   "source": [
    "# Initializing the variables\n",
    "init = tf.global_variables_initializer()"
   ]
  },
  {
   "cell_type": "code",
   "execution_count": 19,
   "metadata": {
    "collapsed": false
   },
   "outputs": [
    {
     "name": "stdout",
     "output_type": "stream",
     "text": [
      "('Epoch:', '0001', 'cost=', '0.018225804')\n",
      "('Epoch:', '0011', 'cost=', '0.018216660')\n",
      "('Epoch:', '0021', 'cost=', '0.018216509')\n",
      "('Epoch:', '0031', 'cost=', '0.012422774')\n",
      "('Epoch:', '0041', 'cost=', '0.012459216')\n",
      "('Epoch:', '0051', 'cost=', '0.011960647')\n",
      "('Epoch:', '0061', 'cost=', '0.011852371')\n",
      "('Epoch:', '0071', 'cost=', '0.011793771')\n",
      "('Epoch:', '0081', 'cost=', '0.011774545')\n",
      "('Epoch:', '0091', 'cost=', '0.011742434')\n",
      "('Epoch:', '0101', 'cost=', '0.011721998')\n",
      "('Epoch:', '0111', 'cost=', '0.011709821')\n",
      "('Epoch:', '0121', 'cost=', '0.011701815')\n",
      "('Epoch:', '0131', 'cost=', '0.011695040')\n",
      "('Epoch:', '0141', 'cost=', '0.011670988')\n",
      "('Epoch:', '0151', 'cost=', '0.011630347')\n",
      "('Epoch:', '0161', 'cost=', '0.011721395')\n",
      "('Epoch:', '0171', 'cost=', '0.011777074')\n",
      "('Epoch:', '0181', 'cost=', '0.011380604')\n",
      "('Epoch:', '0191', 'cost=', '0.011314568')\n",
      "('Epoch:', '0201', 'cost=', '0.010989718')\n",
      "('Epoch:', '0211', 'cost=', '0.010384516')\n",
      "('Epoch:', '0221', 'cost=', '0.010032749')\n",
      "('Epoch:', '0231', 'cost=', '0.009368610')\n",
      "('Epoch:', '0241', 'cost=', '0.009435106')\n",
      "('Epoch:', '0251', 'cost=', '0.009517386')\n",
      "('Epoch:', '0261', 'cost=', '0.009565193')\n",
      "('Epoch:', '0271', 'cost=', '0.009350963')\n",
      "('Epoch:', '0281', 'cost=', '0.009353717')\n",
      "('Epoch:', '0291', 'cost=', '0.009338766')\n",
      "('Epoch:', '0301', 'cost=', '0.009335926')\n",
      "('Epoch:', '0311', 'cost=', '0.009287825')\n",
      "('Epoch:', '0321', 'cost=', '0.009262945')\n",
      "('Epoch:', '0331', 'cost=', '0.009415239')\n",
      "('Epoch:', '0341', 'cost=', '0.009421717')\n",
      "('Epoch:', '0351', 'cost=', '0.009381150')\n",
      "('Epoch:', '0361', 'cost=', '0.009201523')\n",
      "('Epoch:', '0371', 'cost=', '0.009287848')\n",
      "('Epoch:', '0381', 'cost=', '0.009233943')\n",
      "('Epoch:', '0391', 'cost=', '0.009201895')\n",
      "('Epoch:', '0401', 'cost=', '0.009298784')\n",
      "('Epoch:', '0411', 'cost=', '0.009265975')\n",
      "('Epoch:', '0421', 'cost=', '0.009251853')\n",
      "('Epoch:', '0431', 'cost=', '0.009230660')\n",
      "('Epoch:', '0441', 'cost=', '0.009216991')\n",
      "('Epoch:', '0451', 'cost=', '0.009193347')\n",
      "('Epoch:', '0461', 'cost=', '0.009210865')\n",
      "('Epoch:', '0471', 'cost=', '0.009213342')\n",
      "('Epoch:', '0481', 'cost=', '0.009212155')\n",
      "('Epoch:', '0491', 'cost=', '0.009200587')\n",
      "('Epoch:', '0501', 'cost=', '0.009288033')\n",
      "('Epoch:', '0511', 'cost=', '0.009215740')\n",
      "('Epoch:', '0521', 'cost=', '0.009194114')\n",
      "('Epoch:', '0531', 'cost=', '0.009280140')\n",
      "('Epoch:', '0541', 'cost=', '0.009185169')\n",
      "('Epoch:', '0551', 'cost=', '0.009136430')\n",
      "('Epoch:', '0561', 'cost=', '0.009176716')\n",
      "('Epoch:', '0571', 'cost=', '0.009103444')\n",
      "('Epoch:', '0581', 'cost=', '0.009090898')\n",
      "('Epoch:', '0591', 'cost=', '0.009073218')\n",
      "('Epoch:', '0601', 'cost=', '0.009075043')\n",
      "('Epoch:', '0611', 'cost=', '0.009064448')\n",
      "('Epoch:', '0621', 'cost=', '0.009075846')\n",
      "('Epoch:', '0631', 'cost=', '0.009058450')\n",
      "('Epoch:', '0641', 'cost=', '0.009035557')\n",
      "('Epoch:', '0651', 'cost=', '0.009025631')\n",
      "('Epoch:', '0661', 'cost=', '0.008785635')\n",
      "('Epoch:', '0671', 'cost=', '0.008796586')\n",
      "('Epoch:', '0681', 'cost=', '0.008735406')\n",
      "('Epoch:', '0691', 'cost=', '0.008758374')\n",
      "('Epoch:', '0701', 'cost=', '0.008789775')\n",
      "('Epoch:', '0711', 'cost=', '0.008586601')\n",
      "('Epoch:', '0721', 'cost=', '0.008520734')\n",
      "('Epoch:', '0731', 'cost=', '0.008449149')\n",
      "('Epoch:', '0741', 'cost=', '0.008507179')\n",
      "('Epoch:', '0751', 'cost=', '0.008454833')\n",
      "('Epoch:', '0761', 'cost=', '0.008420951')\n",
      "('Epoch:', '0771', 'cost=', '0.008518683')\n",
      "('Epoch:', '0781', 'cost=', '0.008406688')\n",
      "('Epoch:', '0791', 'cost=', '0.008331402')\n",
      "('Epoch:', '0801', 'cost=', '0.008579125')\n",
      "('Epoch:', '0811', 'cost=', '0.008386458')\n",
      "('Epoch:', '0821', 'cost=', '0.008300048')\n",
      "('Epoch:', '0831', 'cost=', '0.008341413')\n",
      "('Epoch:', '0841', 'cost=', '0.008444666')\n",
      "('Epoch:', '0851', 'cost=', '0.008476857')\n",
      "('Epoch:', '0861', 'cost=', '0.008259040')\n",
      "('Epoch:', '0871', 'cost=', '0.008207676')\n",
      "('Epoch:', '0881', 'cost=', '0.008394834')\n",
      "('Epoch:', '0891', 'cost=', '0.008325263')\n",
      "('Epoch:', '0901', 'cost=', '0.008215926')\n",
      "('Epoch:', '0911', 'cost=', '0.008313401')\n",
      "('Epoch:', '0921', 'cost=', '0.008499005')\n",
      "('Epoch:', '0931', 'cost=', '0.008245655')\n",
      "('Epoch:', '0941', 'cost=', '0.008281564')\n",
      "('Epoch:', '0951', 'cost=', '0.008205878')\n",
      "('Epoch:', '0961', 'cost=', '0.008217408')\n",
      "('Epoch:', '0971', 'cost=', '0.008331734')\n",
      "('Epoch:', '0981', 'cost=', '0.008241542')\n",
      "('Epoch:', '0991', 'cost=', '0.008250402')\n",
      "('Epoch:', '1001', 'cost=', '0.008376367')\n",
      "('Epoch:', '1011', 'cost=', '0.008164016')\n",
      "('Epoch:', '1021', 'cost=', '0.008161558')\n",
      "('Epoch:', '1031', 'cost=', '0.008163209')\n",
      "('Epoch:', '1041', 'cost=', '0.008459836')\n",
      "('Epoch:', '1051', 'cost=', '0.008324289')\n",
      "('Epoch:', '1061', 'cost=', '0.008230575')\n",
      "('Epoch:', '1071', 'cost=', '0.008256709')\n",
      "('Epoch:', '1081', 'cost=', '0.008189497')\n",
      "('Epoch:', '1091', 'cost=', '0.008172755')\n",
      "('Epoch:', '1101', 'cost=', '0.008790777')\n",
      "('Epoch:', '1111', 'cost=', '0.008362400')\n",
      "('Epoch:', '1121', 'cost=', '0.008325659')\n",
      "('Epoch:', '1131', 'cost=', '0.008220684')\n",
      "('Epoch:', '1141', 'cost=', '0.008442572')\n",
      "('Epoch:', '1151', 'cost=', '0.008241378')\n",
      "('Epoch:', '1161', 'cost=', '0.008291163')\n",
      "('Epoch:', '1171', 'cost=', '0.008487975')\n",
      "('Epoch:', '1181', 'cost=', '0.008371082')\n",
      "('Epoch:', '1191', 'cost=', '0.008268425')\n",
      "('Epoch:', '1201', 'cost=', '0.008292050')\n",
      "('Epoch:', '1211', 'cost=', '0.008466756')\n",
      "('Epoch:', '1221', 'cost=', '0.008429885')\n",
      "('Epoch:', '1231', 'cost=', '0.008434547')\n",
      "('Epoch:', '1241', 'cost=', '0.008297921')\n",
      "('Epoch:', '1251', 'cost=', '0.008445157')\n",
      "('Epoch:', '1261', 'cost=', '0.008386207')\n",
      "('Epoch:', '1271', 'cost=', '0.008668993')\n",
      "('Epoch:', '1281', 'cost=', '0.008541566')\n",
      "('Epoch:', '1291', 'cost=', '0.008392557')\n",
      "('Epoch:', '1301', 'cost=', '0.008437387')\n",
      "('Epoch:', '1311', 'cost=', '0.008298971')\n",
      "('Epoch:', '1321', 'cost=', '0.008291379')\n",
      "('Epoch:', '1331', 'cost=', '0.008031159')\n",
      "('Epoch:', '1341', 'cost=', '0.008160336')\n",
      "('Epoch:', '1351', 'cost=', '0.007970705')\n",
      "('Epoch:', '1361', 'cost=', '0.007922747')\n",
      "('Epoch:', '1371', 'cost=', '0.007971675')\n",
      "('Epoch:', '1381', 'cost=', '0.007982165')\n",
      "('Epoch:', '1391', 'cost=', '0.007958736')\n",
      "('Epoch:', '1401', 'cost=', '0.008099258')\n",
      "('Epoch:', '1411', 'cost=', '0.008090696')\n",
      "('Epoch:', '1421', 'cost=', '0.007988848')\n",
      "('Epoch:', '1431', 'cost=', '0.007833714')\n",
      "('Epoch:', '1441', 'cost=', '0.008057440')\n",
      "('Epoch:', '1451', 'cost=', '0.008127251')\n",
      "('Epoch:', '1461', 'cost=', '0.007802739')\n",
      "('Epoch:', '1471', 'cost=', '0.007781865')\n",
      "('Epoch:', '1481', 'cost=', '0.008228336')\n",
      "('Epoch:', '1491', 'cost=', '0.007942878')\n",
      "('Epoch:', '1501', 'cost=', '0.007832089')\n",
      "('Epoch:', '1511', 'cost=', '0.007786275')\n",
      "('Epoch:', '1521', 'cost=', '0.007929929')\n",
      "('Epoch:', '1531', 'cost=', '0.007916456')\n",
      "('Epoch:', '1541', 'cost=', '0.008001222')\n",
      "('Epoch:', '1551', 'cost=', '0.007812811')\n",
      "('Epoch:', '1561', 'cost=', '0.007809593')\n",
      "('Epoch:', '1571', 'cost=', '0.007809692')\n",
      "('Epoch:', '1581', 'cost=', '0.007731694')\n",
      "('Epoch:', '1591', 'cost=', '0.007859994')\n",
      "('Epoch:', '1601', 'cost=', '0.007841667')\n",
      "('Epoch:', '1611', 'cost=', '0.007908409')\n",
      "('Epoch:', '1621', 'cost=', '0.008108881')\n",
      "('Epoch:', '1631', 'cost=', '0.007838137')\n",
      "('Epoch:', '1641', 'cost=', '0.007850280')\n",
      "('Epoch:', '1651', 'cost=', '0.007791972')\n",
      "('Epoch:', '1661', 'cost=', '0.007829007')\n",
      "('Epoch:', '1671', 'cost=', '0.008047622')\n",
      "('Epoch:', '1681', 'cost=', '0.007906474')\n",
      "('Epoch:', '1691', 'cost=', '0.007951576')\n",
      "('Epoch:', '1701', 'cost=', '0.008032198')\n",
      "('Epoch:', '1711', 'cost=', '0.008230990')\n",
      "('Epoch:', '1721', 'cost=', '0.008032334')\n",
      "('Epoch:', '1731', 'cost=', '0.008130011')\n",
      "('Epoch:', '1741', 'cost=', '0.007861726')\n",
      "('Epoch:', '1751', 'cost=', '0.008100322')\n",
      "('Epoch:', '1761', 'cost=', '0.007820280')\n",
      "('Epoch:', '1771', 'cost=', '0.007798844')\n",
      "('Epoch:', '1781', 'cost=', '0.007924174')\n",
      "('Epoch:', '1791', 'cost=', '0.007796378')\n",
      "('Epoch:', '1801', 'cost=', '0.008041027')\n",
      "('Epoch:', '1811', 'cost=', '0.008034712')\n",
      "('Epoch:', '1821', 'cost=', '0.007809779')\n",
      "('Epoch:', '1831', 'cost=', '0.007790304')\n",
      "('Epoch:', '1841', 'cost=', '0.008041508')\n",
      "('Epoch:', '1851', 'cost=', '0.007915505')\n",
      "('Epoch:', '1861', 'cost=', '0.007958531')\n",
      "('Epoch:', '1871', 'cost=', '0.007863089')\n",
      "('Epoch:', '1881', 'cost=', '0.007812933')\n",
      "('Epoch:', '1891', 'cost=', '0.007860390')\n",
      "('Epoch:', '1901', 'cost=', '0.007735016')\n",
      "('Epoch:', '1911', 'cost=', '0.007944350')\n",
      "('Epoch:', '1921', 'cost=', '0.007928328')\n",
      "('Epoch:', '1931', 'cost=', '0.008096877')\n",
      "('Epoch:', '1941', 'cost=', '0.007722844')\n",
      "('Epoch:', '1951', 'cost=', '0.007850483')\n",
      "('Epoch:', '1961', 'cost=', '0.007978570')\n",
      "('Epoch:', '1971', 'cost=', '0.007749647')\n",
      "('Epoch:', '1981', 'cost=', '0.007853484')\n",
      "('Epoch:', '1991', 'cost=', '0.007891745')\n",
      "('Epoch:', '2000', 'cost=', '0.007780290')\n"
     ]
    }
   ],
   "source": [
    "with tf.Session() as sess:\n",
    "    writer = tf.summary.FileWriter(\"./logs/autoencoder_logs\", sess.graph)\n",
    "    merged = tf.summary.merge_all()\n",
    "    \n",
    "    sess.run(init)\n",
    "    total_batch = int(len(train_data)/batch_size)\n",
    "    \n",
    "    # Training cycle\n",
    "    for epoch in xrange(training_epochs):\n",
    "    # Loop over all batches\n",
    "        for start, end in zip(range(0, len(train_data), batch_size), range(batch_size, len(train_data)+1, batch_size)):\n",
    "            batch_xs = train_data.values[start:end]\n",
    "            \n",
    "            _, c, summary = sess.run([train_op, cost, merged], feed_dict={X: batch_xs})\n",
    "        \n",
    "        writer.add_summary(summary, epoch)\n",
    "        \n",
    "        # Display logs per epoch step\n",
    "        if epoch % display_step == 0 or epoch+1 == training_epochs:\n",
    "            print(\"Epoch:\", '%04d' % (epoch+1), \n",
    "                  \"cost=\", \"{:.9f}\".format(c))\n",
    "            \n",
    "    recon_ip, reduced_ip = sess.run([decoder_op, encoder_op], feed_dict={X: train_data.values})"
   ]
  },
  {
   "cell_type": "code",
   "execution_count": 26,
   "metadata": {
    "collapsed": false
   },
   "outputs": [
    {
     "data": {
      "text/plain": [
       "136573"
      ]
     },
     "execution_count": 26,
     "metadata": {},
     "output_type": "execute_result"
    }
   ],
   "source": [
    "len(recon_ip)"
   ]
  },
  {
   "cell_type": "code",
   "execution_count": 21,
   "metadata": {
    "collapsed": false
   },
   "outputs": [
    {
     "data": {
      "text/plain": [
       "136573"
      ]
     },
     "execution_count": 21,
     "metadata": {},
     "output_type": "execute_result"
    }
   ],
   "source": [
    "len(train_data.values)|"
   ]
  },
  {
   "cell_type": "code",
   "execution_count": 29,
   "metadata": {
    "collapsed": false
   },
   "outputs": [],
   "source": [
    "recon_ip_df = pd.DataFrame(recon_ip)\n",
    "reduced_ip_df = pd.DataFrame(reduced_ip)"
   ]
  },
  {
   "cell_type": "code",
   "execution_count": 30,
   "metadata": {
    "collapsed": false
   },
   "outputs": [
    {
     "data": {
      "text/html": [
       "<div>\n",
       "<table border=\"1\" class=\"dataframe\">\n",
       "  <thead>\n",
       "    <tr style=\"text-align: right;\">\n",
       "      <th></th>\n",
       "      <th>0</th>\n",
       "      <th>1</th>\n",
       "      <th>2</th>\n",
       "      <th>3</th>\n",
       "      <th>4</th>\n",
       "      <th>5</th>\n",
       "      <th>6</th>\n",
       "      <th>7</th>\n",
       "      <th>8</th>\n",
       "      <th>9</th>\n",
       "      <th>...</th>\n",
       "      <th>40</th>\n",
       "      <th>41</th>\n",
       "      <th>42</th>\n",
       "      <th>43</th>\n",
       "      <th>44</th>\n",
       "      <th>45</th>\n",
       "      <th>46</th>\n",
       "      <th>47</th>\n",
       "      <th>48</th>\n",
       "      <th>49</th>\n",
       "    </tr>\n",
       "  </thead>\n",
       "  <tbody>\n",
       "    <tr>\n",
       "      <th>0</th>\n",
       "      <td>0.500464</td>\n",
       "      <td>0.458360</td>\n",
       "      <td>0.296647</td>\n",
       "      <td>0.315735</td>\n",
       "      <td>0.452568</td>\n",
       "      <td>0.578155</td>\n",
       "      <td>0.557038</td>\n",
       "      <td>0.540510</td>\n",
       "      <td>0.384309</td>\n",
       "      <td>0.534436</td>\n",
       "      <td>...</td>\n",
       "      <td>0.499641</td>\n",
       "      <td>0.522361</td>\n",
       "      <td>0.322454</td>\n",
       "      <td>0.385156</td>\n",
       "      <td>0.588264</td>\n",
       "      <td>0.504540</td>\n",
       "      <td>0.640783</td>\n",
       "      <td>0.355243</td>\n",
       "      <td>0.605995</td>\n",
       "      <td>0.331224</td>\n",
       "    </tr>\n",
       "    <tr>\n",
       "      <th>1</th>\n",
       "      <td>0.452611</td>\n",
       "      <td>0.384940</td>\n",
       "      <td>0.494179</td>\n",
       "      <td>0.459329</td>\n",
       "      <td>0.472648</td>\n",
       "      <td>0.557348</td>\n",
       "      <td>0.448206</td>\n",
       "      <td>0.501970</td>\n",
       "      <td>0.484955</td>\n",
       "      <td>0.525669</td>\n",
       "      <td>...</td>\n",
       "      <td>0.570663</td>\n",
       "      <td>0.530514</td>\n",
       "      <td>0.526325</td>\n",
       "      <td>0.482080</td>\n",
       "      <td>0.576140</td>\n",
       "      <td>0.520273</td>\n",
       "      <td>0.617442</td>\n",
       "      <td>0.397500</td>\n",
       "      <td>0.569265</td>\n",
       "      <td>0.455993</td>\n",
       "    </tr>\n",
       "    <tr>\n",
       "      <th>2</th>\n",
       "      <td>0.475688</td>\n",
       "      <td>0.541736</td>\n",
       "      <td>0.575645</td>\n",
       "      <td>0.573443</td>\n",
       "      <td>0.461201</td>\n",
       "      <td>0.499514</td>\n",
       "      <td>0.459405</td>\n",
       "      <td>0.534681</td>\n",
       "      <td>0.622936</td>\n",
       "      <td>0.488474</td>\n",
       "      <td>...</td>\n",
       "      <td>0.527418</td>\n",
       "      <td>0.496349</td>\n",
       "      <td>0.530940</td>\n",
       "      <td>0.562418</td>\n",
       "      <td>0.428210</td>\n",
       "      <td>0.505137</td>\n",
       "      <td>0.503498</td>\n",
       "      <td>0.599292</td>\n",
       "      <td>0.418592</td>\n",
       "      <td>0.531393</td>\n",
       "    </tr>\n",
       "    <tr>\n",
       "      <th>3</th>\n",
       "      <td>0.463555</td>\n",
       "      <td>0.424166</td>\n",
       "      <td>0.432929</td>\n",
       "      <td>0.481724</td>\n",
       "      <td>0.363608</td>\n",
       "      <td>0.491391</td>\n",
       "      <td>0.433185</td>\n",
       "      <td>0.552177</td>\n",
       "      <td>0.491572</td>\n",
       "      <td>0.509461</td>\n",
       "      <td>...</td>\n",
       "      <td>0.617731</td>\n",
       "      <td>0.341117</td>\n",
       "      <td>0.602441</td>\n",
       "      <td>0.408973</td>\n",
       "      <td>0.456337</td>\n",
       "      <td>0.533457</td>\n",
       "      <td>0.642322</td>\n",
       "      <td>0.375745</td>\n",
       "      <td>0.545526</td>\n",
       "      <td>0.407551</td>\n",
       "    </tr>\n",
       "  </tbody>\n",
       "</table>\n",
       "<p>4 rows × 50 columns</p>\n",
       "</div>"
      ],
      "text/plain": [
       "         0         1         2         3         4         5         6   \\\n",
       "0  0.500464  0.458360  0.296647  0.315735  0.452568  0.578155  0.557038   \n",
       "1  0.452611  0.384940  0.494179  0.459329  0.472648  0.557348  0.448206   \n",
       "2  0.475688  0.541736  0.575645  0.573443  0.461201  0.499514  0.459405   \n",
       "3  0.463555  0.424166  0.432929  0.481724  0.363608  0.491391  0.433185   \n",
       "\n",
       "         7         8         9     ...           40        41        42  \\\n",
       "0  0.540510  0.384309  0.534436    ...     0.499641  0.522361  0.322454   \n",
       "1  0.501970  0.484955  0.525669    ...     0.570663  0.530514  0.526325   \n",
       "2  0.534681  0.622936  0.488474    ...     0.527418  0.496349  0.530940   \n",
       "3  0.552177  0.491572  0.509461    ...     0.617731  0.341117  0.602441   \n",
       "\n",
       "         43        44        45        46        47        48        49  \n",
       "0  0.385156  0.588264  0.504540  0.640783  0.355243  0.605995  0.331224  \n",
       "1  0.482080  0.576140  0.520273  0.617442  0.397500  0.569265  0.455993  \n",
       "2  0.562418  0.428210  0.505137  0.503498  0.599292  0.418592  0.531393  \n",
       "3  0.408973  0.456337  0.533457  0.642322  0.375745  0.545526  0.407551  \n",
       "\n",
       "[4 rows x 50 columns]"
      ]
     },
     "execution_count": 30,
     "metadata": {},
     "output_type": "execute_result"
    }
   ],
   "source": [
    "recon_ip_df[0:4]"
   ]
  },
  {
   "cell_type": "code",
   "execution_count": 31,
   "metadata": {
    "collapsed": false
   },
   "outputs": [
    {
     "data": {
      "text/html": [
       "<div>\n",
       "<table border=\"1\" class=\"dataframe\">\n",
       "  <thead>\n",
       "    <tr style=\"text-align: right;\">\n",
       "      <th></th>\n",
       "      <th>feature1</th>\n",
       "      <th>feature2</th>\n",
       "      <th>feature3</th>\n",
       "      <th>feature4</th>\n",
       "      <th>feature5</th>\n",
       "      <th>feature6</th>\n",
       "      <th>feature7</th>\n",
       "      <th>feature8</th>\n",
       "      <th>feature9</th>\n",
       "      <th>feature10</th>\n",
       "      <th>...</th>\n",
       "      <th>feature41</th>\n",
       "      <th>feature42</th>\n",
       "      <th>feature43</th>\n",
       "      <th>feature44</th>\n",
       "      <th>feature45</th>\n",
       "      <th>feature46</th>\n",
       "      <th>feature47</th>\n",
       "      <th>feature48</th>\n",
       "      <th>feature49</th>\n",
       "      <th>feature50</th>\n",
       "    </tr>\n",
       "  </thead>\n",
       "  <tbody>\n",
       "    <tr>\n",
       "      <th>0</th>\n",
       "      <td>0.406544</td>\n",
       "      <td>0.446282</td>\n",
       "      <td>0.391557</td>\n",
       "      <td>0.367915</td>\n",
       "      <td>0.394000</td>\n",
       "      <td>0.645786</td>\n",
       "      <td>0.412648</td>\n",
       "      <td>0.612024</td>\n",
       "      <td>0.280566</td>\n",
       "      <td>0.656772</td>\n",
       "      <td>...</td>\n",
       "      <td>0.645538</td>\n",
       "      <td>0.402367</td>\n",
       "      <td>0.403089</td>\n",
       "      <td>0.417718</td>\n",
       "      <td>0.569705</td>\n",
       "      <td>0.333967</td>\n",
       "      <td>0.800747</td>\n",
       "      <td>0.305381</td>\n",
       "      <td>0.626881</td>\n",
       "      <td>0.430329</td>\n",
       "    </tr>\n",
       "    <tr>\n",
       "      <th>1</th>\n",
       "      <td>0.354021</td>\n",
       "      <td>0.376411</td>\n",
       "      <td>0.482908</td>\n",
       "      <td>0.413099</td>\n",
       "      <td>0.431805</td>\n",
       "      <td>0.615614</td>\n",
       "      <td>0.402103</td>\n",
       "      <td>0.679637</td>\n",
       "      <td>0.541565</td>\n",
       "      <td>0.698312</td>\n",
       "      <td>...</td>\n",
       "      <td>0.392585</td>\n",
       "      <td>0.536498</td>\n",
       "      <td>0.647950</td>\n",
       "      <td>0.593725</td>\n",
       "      <td>0.477672</td>\n",
       "      <td>0.412486</td>\n",
       "      <td>0.799000</td>\n",
       "      <td>0.304652</td>\n",
       "      <td>0.381010</td>\n",
       "      <td>0.481293</td>\n",
       "    </tr>\n",
       "    <tr>\n",
       "      <th>2</th>\n",
       "      <td>0.597742</td>\n",
       "      <td>0.589638</td>\n",
       "      <td>0.586671</td>\n",
       "      <td>0.698624</td>\n",
       "      <td>0.378669</td>\n",
       "      <td>0.502805</td>\n",
       "      <td>0.358681</td>\n",
       "      <td>0.468242</td>\n",
       "      <td>0.613455</td>\n",
       "      <td>0.409177</td>\n",
       "      <td>...</td>\n",
       "      <td>0.686596</td>\n",
       "      <td>0.452612</td>\n",
       "      <td>0.463369</td>\n",
       "      <td>0.569285</td>\n",
       "      <td>0.420881</td>\n",
       "      <td>0.640063</td>\n",
       "      <td>0.532517</td>\n",
       "      <td>0.686908</td>\n",
       "      <td>0.512719</td>\n",
       "      <td>0.494701</td>\n",
       "    </tr>\n",
       "    <tr>\n",
       "      <th>3</th>\n",
       "      <td>0.567255</td>\n",
       "      <td>0.483598</td>\n",
       "      <td>0.446437</td>\n",
       "      <td>0.610422</td>\n",
       "      <td>0.273251</td>\n",
       "      <td>0.506418</td>\n",
       "      <td>0.227988</td>\n",
       "      <td>0.475163</td>\n",
       "      <td>0.512028</td>\n",
       "      <td>0.425867</td>\n",
       "      <td>...</td>\n",
       "      <td>0.721268</td>\n",
       "      <td>0.187605</td>\n",
       "      <td>0.549623</td>\n",
       "      <td>0.441612</td>\n",
       "      <td>0.447807</td>\n",
       "      <td>0.653687</td>\n",
       "      <td>0.701394</td>\n",
       "      <td>0.572340</td>\n",
       "      <td>0.468844</td>\n",
       "      <td>0.480344</td>\n",
       "    </tr>\n",
       "  </tbody>\n",
       "</table>\n",
       "<p>4 rows × 50 columns</p>\n",
       "</div>"
      ],
      "text/plain": [
       "   feature1  feature2  feature3  feature4  feature5  feature6  feature7  \\\n",
       "0  0.406544  0.446282  0.391557  0.367915  0.394000  0.645786  0.412648   \n",
       "1  0.354021  0.376411  0.482908  0.413099  0.431805  0.615614  0.402103   \n",
       "2  0.597742  0.589638  0.586671  0.698624  0.378669  0.502805  0.358681   \n",
       "3  0.567255  0.483598  0.446437  0.610422  0.273251  0.506418  0.227988   \n",
       "\n",
       "   feature8  feature9  feature10    ...      feature41  feature42  feature43  \\\n",
       "0  0.612024  0.280566   0.656772    ...       0.645538   0.402367   0.403089   \n",
       "1  0.679637  0.541565   0.698312    ...       0.392585   0.536498   0.647950   \n",
       "2  0.468242  0.613455   0.409177    ...       0.686596   0.452612   0.463369   \n",
       "3  0.475163  0.512028   0.425867    ...       0.721268   0.187605   0.549623   \n",
       "\n",
       "   feature44  feature45  feature46  feature47  feature48  feature49  feature50  \n",
       "0   0.417718   0.569705   0.333967   0.800747   0.305381   0.626881   0.430329  \n",
       "1   0.593725   0.477672   0.412486   0.799000   0.304652   0.381010   0.481293  \n",
       "2   0.569285   0.420881   0.640063   0.532517   0.686908   0.512719   0.494701  \n",
       "3   0.441612   0.447807   0.653687   0.701394   0.572340   0.468844   0.480344  \n",
       "\n",
       "[4 rows x 50 columns]"
      ]
     },
     "execution_count": 31,
     "metadata": {},
     "output_type": "execute_result"
    }
   ],
   "source": [
    "train_data[0:4]"
   ]
  },
  {
   "cell_type": "code",
   "execution_count": null,
   "metadata": {
    "collapsed": true
   },
   "outputs": [],
   "source": []
  }
 ],
 "metadata": {
  "anaconda-cloud": {},
  "kernelspec": {
   "display_name": "Python [Root]",
   "language": "python",
   "name": "Python [Root]"
  },
  "language_info": {
   "codemirror_mode": {
    "name": "ipython",
    "version": 2
   },
   "file_extension": ".py",
   "mimetype": "text/x-python",
   "name": "python",
   "nbconvert_exporter": "python",
   "pygments_lexer": "ipython2",
   "version": "2.7.12"
  }
 },
 "nbformat": 4,
 "nbformat_minor": 0
}
